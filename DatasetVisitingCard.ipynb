{
 "cells": [
  {
   "metadata": {
    "ExecuteTime": {
     "end_time": "2024-05-07T20:29:47.154686Z",
     "start_time": "2024-05-07T20:28:10.049144Z"
    }
   },
   "cell_type": "code",
   "source": [
    "!pip install roboflow\n",
    "\n",
    "from roboflow import Roboflow\n",
    "rf = Roboflow(api_key=\"5MBsRJ32dm5YsI5333cd\")\n",
    "project = rf.workspace(\"datacluster-labs-agryi\").project(\"visiting-card\")\n",
    "version = project.version(1)\n",
    "dataset = version.download(\"yolov8\")"
   ],
   "id": "4821310508e4b6c7",
   "outputs": [
    {
     "name": "stdout",
     "output_type": "stream",
     "text": [
      "Requirement already satisfied: roboflow in /opt/anaconda3/lib/python3.11/site-packages (1.1.28)\r\n",
      "Requirement already satisfied: certifi==2023.7.22 in /opt/anaconda3/lib/python3.11/site-packages (from roboflow) (2023.7.22)\r\n",
      "Requirement already satisfied: chardet==4.0.0 in /opt/anaconda3/lib/python3.11/site-packages (from roboflow) (4.0.0)\r\n",
      "Requirement already satisfied: cycler==0.10.0 in /opt/anaconda3/lib/python3.11/site-packages (from roboflow) (0.10.0)\r\n",
      "Requirement already satisfied: idna==2.10 in /opt/anaconda3/lib/python3.11/site-packages (from roboflow) (2.10)\r\n",
      "Requirement already satisfied: kiwisolver>=1.3.1 in /opt/anaconda3/lib/python3.11/site-packages (from roboflow) (1.4.4)\r\n",
      "Requirement already satisfied: matplotlib in /opt/anaconda3/lib/python3.11/site-packages (from roboflow) (3.8.0)\r\n",
      "Requirement already satisfied: numpy>=1.18.5 in /opt/anaconda3/lib/python3.11/site-packages (from roboflow) (1.26.4)\r\n",
      "Requirement already satisfied: opencv-python-headless==4.8.0.74 in /opt/anaconda3/lib/python3.11/site-packages (from roboflow) (4.8.0.74)\r\n",
      "Requirement already satisfied: Pillow>=7.1.2 in /opt/anaconda3/lib/python3.11/site-packages (from roboflow) (10.3.0)\r\n",
      "Requirement already satisfied: python-dateutil in /opt/anaconda3/lib/python3.11/site-packages (from roboflow) (2.8.2)\r\n",
      "Requirement already satisfied: python-dotenv in /opt/anaconda3/lib/python3.11/site-packages (from roboflow) (0.21.0)\r\n",
      "Requirement already satisfied: requests in /opt/anaconda3/lib/python3.11/site-packages (from roboflow) (2.31.0)\r\n",
      "Requirement already satisfied: six in /opt/anaconda3/lib/python3.11/site-packages (from roboflow) (1.16.0)\r\n",
      "Requirement already satisfied: urllib3>=1.26.6 in /opt/anaconda3/lib/python3.11/site-packages (from roboflow) (2.0.7)\r\n",
      "Requirement already satisfied: tqdm>=4.41.0 in /opt/anaconda3/lib/python3.11/site-packages (from roboflow) (4.65.0)\r\n",
      "Requirement already satisfied: PyYAML>=5.3.1 in /opt/anaconda3/lib/python3.11/site-packages (from roboflow) (6.0.1)\r\n",
      "Requirement already satisfied: requests-toolbelt in /opt/anaconda3/lib/python3.11/site-packages (from roboflow) (1.0.0)\r\n",
      "Requirement already satisfied: python-magic in /opt/anaconda3/lib/python3.11/site-packages (from roboflow) (0.4.27)\r\n",
      "Requirement already satisfied: contourpy>=1.0.1 in /opt/anaconda3/lib/python3.11/site-packages (from matplotlib->roboflow) (1.2.0)\r\n",
      "Requirement already satisfied: fonttools>=4.22.0 in /opt/anaconda3/lib/python3.11/site-packages (from matplotlib->roboflow) (4.25.0)\r\n",
      "Requirement already satisfied: packaging>=20.0 in /opt/anaconda3/lib/python3.11/site-packages (from matplotlib->roboflow) (23.1)\r\n",
      "Requirement already satisfied: pyparsing>=2.3.1 in /opt/anaconda3/lib/python3.11/site-packages (from matplotlib->roboflow) (3.0.9)\r\n",
      "Requirement already satisfied: charset-normalizer<4,>=2 in /opt/anaconda3/lib/python3.11/site-packages (from requests->roboflow) (3.1.0)\r\n",
      "loading Roboflow workspace...\n",
      "loading Roboflow project...\n",
      "Dependency ultralytics==8.0.196 is required but found version=8.2.10, to fix: `pip install ultralytics==8.0.196`\n"
     ]
    },
    {
     "name": "stderr",
     "output_type": "stream",
     "text": [
      "Downloading Dataset Version Zip in Visiting-Card-1 to yolov8:: 100%|██████████| 95311/95311 [01:29<00:00, 1062.27it/s]"
     ]
    },
    {
     "name": "stdout",
     "output_type": "stream",
     "text": [
      "\n"
     ]
    },
    {
     "name": "stderr",
     "output_type": "stream",
     "text": [
      "\n",
      "Extracting Dataset Version Zip to Visiting-Card-1 in yolov8:: 100%|██████████| 210/210 [00:00<00:00, 1057.32it/s]\n"
     ]
    }
   ],
   "execution_count": 6
  },
  {
   "metadata": {
    "ExecuteTime": {
     "end_time": "2024-05-07T19:53:57.195757Z",
     "start_time": "2024-05-07T19:53:57.185388Z"
    }
   },
   "cell_type": "code",
   "source": [
    "from ultralytics import YOLO\n",
    "from IPython.display import display, Image"
   ],
   "id": "bcfecaf9d1e5921f",
   "outputs": [],
   "execution_count": 2
  },
  {
   "metadata": {
    "ExecuteTime": {
     "end_time": "2024-05-07T20:30:25.676745Z",
     "start_time": "2024-05-07T20:30:25.663341Z"
    }
   },
   "cell_type": "code",
   "source": "dataset.location",
   "id": "ba37af27839d6bc2",
   "outputs": [
    {
     "data": {
      "text/plain": [
       "'/Users/biagiolicari/Documents/Python/Azure/YoloDetect/Visiting-Card-1'"
      ]
     },
     "execution_count": 7,
     "metadata": {},
     "output_type": "execute_result"
    }
   ],
   "execution_count": 7
  },
  {
   "metadata": {
    "ExecuteTime": {
     "end_time": "2024-05-07T20:00:39.327154Z",
     "start_time": "2024-05-07T19:58:57.427265Z"
    }
   },
   "cell_type": "code",
   "source": "!yolo task=detect mode=train model=yolov8s.pt data={dataset.location}/data.yaml epochs=25 imgsz=416 plots=True",
   "id": "a77fea6912d53168",
   "outputs": [
    {
     "name": "stdout",
     "output_type": "stream",
     "text": [
      "Ultralytics YOLOv8.2.10 🚀 Python-3.11.7 torch-2.2.2 CPU (Apple M1)\r\n",
      "\u001B[34m\u001B[1mengine/trainer: \u001B[0mtask=detect, mode=train, model=yolov8s.pt, data=/Users/biagiolicari/Documents/Python/Azure/YoloDetect/SET-Card-Detection-1/data.yaml, epochs=25, time=None, patience=100, batch=16, imgsz=416, save=True, save_period=-1, cache=False, device=None, workers=8, project=None, name=train2, exist_ok=False, pretrained=True, optimizer=auto, verbose=True, seed=0, deterministic=True, single_cls=False, rect=False, cos_lr=False, close_mosaic=10, resume=False, amp=True, fraction=1.0, profile=False, freeze=None, multi_scale=False, overlap_mask=True, mask_ratio=4, dropout=0.0, val=True, split=val, save_json=False, save_hybrid=False, conf=None, iou=0.7, max_det=300, half=False, dnn=False, plots=True, source=None, vid_stride=1, stream_buffer=False, visualize=False, augment=False, agnostic_nms=False, classes=None, retina_masks=False, embed=None, show=False, save_frames=False, save_txt=False, save_conf=False, save_crop=False, show_labels=True, show_conf=True, show_boxes=True, line_width=None, format=torchscript, keras=False, optimize=False, int8=False, dynamic=False, simplify=False, opset=None, workspace=4, nms=False, lr0=0.01, lrf=0.01, momentum=0.937, weight_decay=0.0005, warmup_epochs=3.0, warmup_momentum=0.8, warmup_bias_lr=0.1, box=7.5, cls=0.5, dfl=1.5, pose=12.0, kobj=1.0, label_smoothing=0.0, nbs=64, hsv_h=0.015, hsv_s=0.7, hsv_v=0.4, degrees=0.0, translate=0.1, scale=0.5, shear=0.0, perspective=0.0, flipud=0.0, fliplr=0.5, bgr=0.0, mosaic=1.0, mixup=0.0, copy_paste=0.0, auto_augment=randaugment, erasing=0.4, crop_fraction=1.0, cfg=None, tracker=botsort.yaml, save_dir=runs/detect/train2\r\n",
      "Overriding model.yaml nc=80 with nc=9\r\n",
      "\r\n",
      "                   from  n    params  module                                       arguments                     \r\n",
      "  0                  -1  1       928  ultralytics.nn.modules.conv.Conv             [3, 32, 3, 2]                 \r\n",
      "  1                  -1  1     18560  ultralytics.nn.modules.conv.Conv             [32, 64, 3, 2]                \r\n",
      "  2                  -1  1     29056  ultralytics.nn.modules.block.C2f             [64, 64, 1, True]             \r\n",
      "  3                  -1  1     73984  ultralytics.nn.modules.conv.Conv             [64, 128, 3, 2]               \r\n",
      "  4                  -1  2    197632  ultralytics.nn.modules.block.C2f             [128, 128, 2, True]           \r\n",
      "  5                  -1  1    295424  ultralytics.nn.modules.conv.Conv             [128, 256, 3, 2]              \r\n",
      "  6                  -1  2    788480  ultralytics.nn.modules.block.C2f             [256, 256, 2, True]           \r\n",
      "  7                  -1  1   1180672  ultralytics.nn.modules.conv.Conv             [256, 512, 3, 2]              \r\n",
      "  8                  -1  1   1838080  ultralytics.nn.modules.block.C2f             [512, 512, 1, True]           \r\n",
      "  9                  -1  1    656896  ultralytics.nn.modules.block.SPPF            [512, 512, 5]                 \r\n",
      " 10                  -1  1         0  torch.nn.modules.upsampling.Upsample         [None, 2, 'nearest']          \r\n",
      " 11             [-1, 6]  1         0  ultralytics.nn.modules.conv.Concat           [1]                           \r\n",
      " 12                  -1  1    591360  ultralytics.nn.modules.block.C2f             [768, 256, 1]                 \r\n",
      " 13                  -1  1         0  torch.nn.modules.upsampling.Upsample         [None, 2, 'nearest']          \r\n",
      " 14             [-1, 4]  1         0  ultralytics.nn.modules.conv.Concat           [1]                           \r\n",
      " 15                  -1  1    148224  ultralytics.nn.modules.block.C2f             [384, 128, 1]                 \r\n",
      " 16                  -1  1    147712  ultralytics.nn.modules.conv.Conv             [128, 128, 3, 2]              \r\n",
      " 17            [-1, 12]  1         0  ultralytics.nn.modules.conv.Concat           [1]                           \r\n",
      " 18                  -1  1    493056  ultralytics.nn.modules.block.C2f             [384, 256, 1]                 \r\n",
      " 19                  -1  1    590336  ultralytics.nn.modules.conv.Conv             [256, 256, 3, 2]              \r\n",
      " 20             [-1, 9]  1         0  ultralytics.nn.modules.conv.Concat           [1]                           \r\n",
      " 21                  -1  1   1969152  ultralytics.nn.modules.block.C2f             [768, 512, 1]                 \r\n",
      " 22        [15, 18, 21]  1   2119531  ultralytics.nn.modules.head.Detect           [9, [128, 256, 512]]          \r\n",
      "Model summary: 225 layers, 11139083 parameters, 11139067 gradients, 28.7 GFLOPs\r\n",
      "\r\n",
      "Transferred 349/355 items from pretrained weights\r\n",
      "\u001B[34m\u001B[1mTensorBoard: \u001B[0mStart with 'tensorboard --logdir runs/detect/train2', view at http://localhost:6006/\r\n",
      "\u001B[34m\u001B[1mwandb\u001B[0m: (1) Create a W&B account\r\n",
      "\u001B[34m\u001B[1mwandb\u001B[0m: (2) Use an existing W&B account\r\n",
      "\u001B[34m\u001B[1mwandb\u001B[0m: (3) Don't visualize my results\r\n",
      "\u001B[34m\u001B[1mwandb\u001B[0m: Enter your choice: ^C\r\n",
      "Traceback (most recent call last):\r\n",
      "  File \"/opt/anaconda3/bin/yolo\", line 8, in <module>\r\n",
      "    sys.exit(entrypoint())\r\n",
      "             ^^^^^^^^^^^^\r\n",
      "  File \"/opt/anaconda3/lib/python3.11/site-packages/ultralytics/cfg/__init__.py\", line 583, in entrypoint\r\n",
      "    getattr(model, mode)(**overrides)  # default args from model\r\n",
      "    ^^^^^^^^^^^^^^^^^^^^^^^^^^^^^^^^^\r\n",
      "  File \"/opt/anaconda3/lib/python3.11/site-packages/ultralytics/engine/model.py\", line 673, in train\r\n",
      "    self.trainer.train()\r\n",
      "  File \"/opt/anaconda3/lib/python3.11/site-packages/ultralytics/engine/trainer.py\", line 199, in train\r\n",
      "    self._do_train(world_size)\r\n",
      "  File \"/opt/anaconda3/lib/python3.11/site-packages/ultralytics/engine/trainer.py\", line 313, in _do_train\r\n",
      "    self._setup_train(world_size)\r\n",
      "  File \"/opt/anaconda3/lib/python3.11/site-packages/ultralytics/engine/trainer.py\", line 226, in _setup_train\r\n",
      "    self.run_callbacks(\"on_pretrain_routine_start\")\r\n",
      "  File \"/opt/anaconda3/lib/python3.11/site-packages/ultralytics/engine/trainer.py\", line 162, in run_callbacks\r\n",
      "    callback(self)\r\n",
      "  File \"/opt/anaconda3/lib/python3.11/site-packages/ultralytics/utils/callbacks/wb.py\", line 112, in on_pretrain_routine_start\r\n",
      "    wb.run or wb.init(project=trainer.args.project or \"YOLOv8\", name=trainer.args.name, config=vars(trainer.args))\r\n",
      "              ^^^^^^^^^^^^^^^^^^^^^^^^^^^^^^^^^^^^^^^^^^^^^^^^^^^^^^^^^^^^^^^^^^^^^^^^^^^^^^^^^^^^^^^^^^^^^^^^^^^^\r\n",
      "  File \"/opt/anaconda3/lib/python3.11/site-packages/wandb/sdk/wandb_init.py\", line 1204, in init\r\n",
      "    raise e\r\n",
      "  File \"/opt/anaconda3/lib/python3.11/site-packages/wandb/sdk/wandb_init.py\", line 1177, in init\r\n",
      "    wi.setup(kwargs)\r\n",
      "  File \"/opt/anaconda3/lib/python3.11/site-packages/wandb/sdk/wandb_init.py\", line 301, in setup\r\n",
      "    wandb_login._login(\r\n",
      "  File \"/opt/anaconda3/lib/python3.11/site-packages/wandb/sdk/wandb_login.py\", line 334, in _login\r\n",
      "    wlogin.prompt_api_key()\r\n",
      "  File \"/opt/anaconda3/lib/python3.11/site-packages/wandb/sdk/wandb_login.py\", line 256, in prompt_api_key\r\n",
      "    key, status = self._prompt_api_key()\r\n",
      "                  ^^^^^^^^^^^^^^^^^^^^^^\r\n",
      "  File \"/opt/anaconda3/lib/python3.11/site-packages/wandb/sdk/wandb_login.py\", line 236, in _prompt_api_key\r\n",
      "    key = apikey.prompt_api_key(\r\n",
      "          ^^^^^^^^^^^^^^^^^^^^^^\r\n",
      "  File \"/opt/anaconda3/lib/python3.11/site-packages/wandb/sdk/lib/apikey.py\", line 114, in prompt_api_key\r\n",
      "    result = prompt_choices(\r\n",
      "             ^^^^^^^^^^^^^^^\r\n",
      "  File \"/opt/anaconda3/lib/python3.11/site-packages/wandb/util.py\", line 1268, in prompt_choices\r\n",
      "    choice = _prompt_choice(input_timeout=input_timeout, jupyter=jupyter)\r\n",
      "             ^^^^^^^^^^^^^^^^^^^^^^^^^^^^^^^^^^^^^^^^^^^^^^^^^^^^^^^^^^^^\r\n",
      "  File \"/opt/anaconda3/lib/python3.11/site-packages/wandb/util.py\", line 1251, in _prompt_choice\r\n",
      "    choice = input_fn(text)\r\n",
      "             ^^^^^^^^^^^^^^\r\n",
      "KeyboardInterrupt\r\n",
      "Traceback (most recent call last):\r\n",
      "  File \"/opt/anaconda3/bin/yolo\", line 8, in <module>\r\n",
      "    sys.exit(entrypoint())\r\n",
      "             ^^^^^^^^^^^^\r\n",
      "  File \"/opt/anaconda3/lib/python3.11/site-packages/ultralytics/cfg/__init__.py\", line 583, in entrypoint\r\n",
      "    getattr(model, mode)(**overrides)  # default args from model\r\n",
      "    ^^^^^^^^^^^^^^^^^^^^^^^^^^^^^^^^^\r\n",
      "  File \"/opt/anaconda3/lib/python3.11/site-packages/ultralytics/engine/model.py\", line 673, in train\r\n",
      "    self.trainer.train()\r\n",
      "  File \"/opt/anaconda3/lib/python3.11/site-packages/ultralytics/engine/trainer.py\", line 199, in train\r\n",
      "    self._do_train(world_size)\r\n",
      "  File \"/opt/anaconda3/lib/python3.11/site-packages/ultralytics/engine/trainer.py\", line 313, in _do_train\r\n",
      "    self._setup_train(world_size)\r\n",
      "  File \"/opt/anaconda3/lib/python3.11/site-packages/ultralytics/engine/trainer.py\", line 226, in _setup_train\r\n",
      "    self.run_callbacks(\"on_pretrain_routine_start\")\r\n",
      "  File \"/opt/anaconda3/lib/python3.11/site-packages/ultralytics/engine/trainer.py\", line 162, in run_callbacks\r\n",
      "    callback(self)\r\n",
      "  File \"/opt/anaconda3/lib/python3.11/site-packages/ultralytics/utils/callbacks/wb.py\", line 112, in on_pretrain_routine_start\r\n",
      "    wb.run or wb.init(project=trainer.args.project or \"YOLOv8\", name=trainer.args.name, config=vars(trainer.args))\r\n",
      "              ^^^^^^^^^^^^^^^^^^^^^^^^^^^^^^^^^^^^^^^^^^^^^^^^^^^^^^^^^^^^^^^^^^^^^^^^^^^^^^^^^^^^^^^^^^^^^^^^^^^^\r\n",
      "  File \"/opt/anaconda3/lib/python3.11/site-packages/wandb/sdk/wandb_init.py\", line 1204, in init\r\n",
      "    raise e\r\n",
      "  File \"/opt/anaconda3/lib/python3.11/site-packages/wandb/sdk/wandb_init.py\", line 1177, in init\r\n",
      "    wi.setup(kwargs)\r\n",
      "  File \"/opt/anaconda3/lib/python3.11/site-packages/wandb/sdk/wandb_init.py\", line 301, in setup\r\n",
      "    wandb_login._login(\r\n",
      "  File \"/opt/anaconda3/lib/python3.11/site-packages/wandb/sdk/wandb_login.py\", line 334, in _login\r\n",
      "    wlogin.prompt_api_key()\r\n",
      "  File \"/opt/anaconda3/lib/python3.11/site-packages/wandb/sdk/wandb_login.py\", line 256, in prompt_api_key\r\n",
      "    key, status = self._prompt_api_key()\r\n",
      "                  ^^^^^^^^^^^^^^^^^^^^^^\r\n",
      "  File \"/opt/anaconda3/lib/python3.11/site-packages/wandb/sdk/wandb_login.py\", line 236, in _prompt_api_key\r\n",
      "    key = apikey.prompt_api_key(\r\n",
      "          ^^^^^^^^^^^^^^^^^^^^^^\r\n",
      "  File \"/opt/anaconda3/lib/python3.11/site-packages/wandb/sdk/lib/apikey.py\", line 114, in prompt_api_key\r\n",
      "    result = prompt_choices(\r\n",
      "             ^^^^^^^^^^^^^^^\r\n",
      "  File \"/opt/anaconda3/lib/python3.11/site-packages/wandb/util.py\", line 1268, in prompt_choices\r\n",
      "    choice = _prompt_choice(input_timeout=input_timeout, jupyter=jupyter)\r\n",
      "             ^^^^^^^^^^^^^^^^^^^^^^^^^^^^^^^^^^^^^^^^^^^^^^^^^^^^^^^^^^^^\r\n",
      "  File \"/opt/anaconda3/lib/python3.11/site-packages/wandb/util.py\", line 1251, in _prompt_choice\r\n",
      "    choice = input_fn(text)\r\n",
      "             ^^^^^^^^^^^^^^\r\n",
      "KeyboardInterrupt\r\n"
     ]
    }
   ],
   "execution_count": 4
  },
  {
   "metadata": {},
   "cell_type": "code",
   "outputs": [],
   "execution_count": null,
   "source": "!yolo task=detect mode=val model=../runs/detect/train/weights/best.pt data={dataset.location}/data.yaml epochs=25 imgsz=416 plots=True",
   "id": "7bd48569969c4a97"
  }
 ],
 "metadata": {
  "kernelspec": {
   "display_name": "Python 3",
   "language": "python",
   "name": "python3"
  },
  "language_info": {
   "codemirror_mode": {
    "name": "ipython",
    "version": 2
   },
   "file_extension": ".py",
   "mimetype": "text/x-python",
   "name": "python",
   "nbconvert_exporter": "python",
   "pygments_lexer": "ipython2",
   "version": "2.7.6"
  }
 },
 "nbformat": 4,
 "nbformat_minor": 5
}
